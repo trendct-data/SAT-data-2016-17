{
 "cells": [
  {
   "cell_type": "markdown",
   "metadata": {},
   "source": [
    "# Comparing 2016 SAT data with 2017\n",
    "\n",
    "Getting a sense of what the new SAT data look like. Nothing really surprising here.\n",
    "\n",
    "If you're not a programmer, just read the sections with bold headings, and looking at the charts and tables they reference. You can ignore all the gray code boxes."
   ]
  },
  {
   "cell_type": "markdown",
   "metadata": {},
   "source": [
    "# Part 1: Just importing and recombining the data\n",
    "\n",
    "Nothing to see here, unless you're into this kind of thing."
   ]
  },
  {
   "cell_type": "code",
   "execution_count": 1,
   "metadata": {
    "collapsed": true
   },
   "outputs": [],
   "source": [
    "import pandas as pd"
   ]
  },
  {
   "cell_type": "code",
   "execution_count": 2,
   "metadata": {
    "collapsed": true
   },
   "outputs": [],
   "source": [
    "def get_data(year=\"2015-16\"):\n",
    "    \n",
    "    ret = pd.read_csv(\"data/CTSchoolDaySAT\" + year + \".csv\",skiprows=3,header=[0,1])\n",
    "    \n",
    "    ret.columns = ['District',\n",
    "                   'District Code',\n",
    "                   'Subject',\n",
    "                   'Total Number of Students',\n",
    "                   'Total Number Tested',\n",
    "                   'Connecticut School Day SAT Participation Rate',\n",
    "                   'Total Numberwith Scored Tests',\n",
    "                   'Level 1 Not Met Count',\n",
    "                   'Level 1 Not Met Count %',\n",
    "                   'Level 2 Approaching Count',\n",
    "                   'Level 2 Approaching %',\n",
    "                   'Level 3 Met Count',\n",
    "                   'Level 3 Met Count %',\n",
    "                   'Level 4 Exceeded Count',\n",
    "                   'Level 4 Exceeded Count %',\n",
    "                   'Level 3&4 Met or Exceeded Count',\n",
    "                   'Level 3&4 Met or Exceeded %',\n",
    "                   'Average Score']\n",
    "    \n",
    "    ret[\"year\"] = year\n",
    "    \n",
    "    \n",
    "    ret = ret.set_index([\"District\",\"year\",\"Subject\"])\n",
    "#     ret = ret.set_index([\"District Code\",\"year\",\"Subject\"])\n",
    "    \n",
    "    return ret\n"
   ]
  },
  {
   "cell_type": "code",
   "execution_count": 3,
   "metadata": {
    "collapsed": false
   },
   "outputs": [
    {
     "data": {
      "text/html": [
       "<div>\n",
       "<table border=\"1\" class=\"dataframe\">\n",
       "  <thead>\n",
       "    <tr style=\"text-align: right;\">\n",
       "      <th></th>\n",
       "      <th></th>\n",
       "      <th></th>\n",
       "      <th>District Code</th>\n",
       "      <th>Total Number of Students</th>\n",
       "      <th>Total Number Tested</th>\n",
       "      <th>Connecticut School Day SAT Participation Rate</th>\n",
       "      <th>Total Numberwith Scored Tests</th>\n",
       "      <th>Level 1 Not Met Count</th>\n",
       "      <th>Level 1 Not Met Count %</th>\n",
       "      <th>Level 2 Approaching Count</th>\n",
       "      <th>Level 2 Approaching %</th>\n",
       "      <th>Level 3 Met Count</th>\n",
       "      <th>Level 3 Met Count %</th>\n",
       "      <th>Level 4 Exceeded Count</th>\n",
       "      <th>Level 4 Exceeded Count %</th>\n",
       "      <th>Level 3&amp;4 Met or Exceeded Count</th>\n",
       "      <th>Level 3&amp;4 Met or Exceeded %</th>\n",
       "      <th>Average Score</th>\n",
       "    </tr>\n",
       "    <tr>\n",
       "      <th>District</th>\n",
       "      <th>year</th>\n",
       "      <th>Subject</th>\n",
       "      <th></th>\n",
       "      <th></th>\n",
       "      <th></th>\n",
       "      <th></th>\n",
       "      <th></th>\n",
       "      <th></th>\n",
       "      <th></th>\n",
       "      <th></th>\n",
       "      <th></th>\n",
       "      <th></th>\n",
       "      <th></th>\n",
       "      <th></th>\n",
       "      <th></th>\n",
       "      <th></th>\n",
       "      <th></th>\n",
       "      <th></th>\n",
       "    </tr>\n",
       "  </thead>\n",
       "  <tbody>\n",
       "    <tr>\n",
       "      <th rowspan=\"2\" valign=\"top\">Achievement First Hartford Academy Inc. District</th>\n",
       "      <th rowspan=\"2\" valign=\"top\">2016-17</th>\n",
       "      <th>ELA</th>\n",
       "      <td>=\"2880013\"</td>\n",
       "      <td>39</td>\n",
       "      <td>39</td>\n",
       "      <td>100.0</td>\n",
       "      <td>39</td>\n",
       "      <td>*</td>\n",
       "      <td>*</td>\n",
       "      <td>10</td>\n",
       "      <td>25.6</td>\n",
       "      <td>22</td>\n",
       "      <td>56.4</td>\n",
       "      <td>*</td>\n",
       "      <td>*</td>\n",
       "      <td>*</td>\n",
       "      <td>*</td>\n",
       "      <td>488</td>\n",
       "    </tr>\n",
       "    <tr>\n",
       "      <th>Math</th>\n",
       "      <td>=\"2880013\"</td>\n",
       "      <td>39</td>\n",
       "      <td>39</td>\n",
       "      <td>100.0</td>\n",
       "      <td>38</td>\n",
       "      <td>*</td>\n",
       "      <td>*</td>\n",
       "      <td>20</td>\n",
       "      <td>52.6</td>\n",
       "      <td>13</td>\n",
       "      <td>34.2</td>\n",
       "      <td>*</td>\n",
       "      <td>*</td>\n",
       "      <td>*</td>\n",
       "      <td>*</td>\n",
       "      <td>494</td>\n",
       "    </tr>\n",
       "    <tr>\n",
       "      <th rowspan=\"2\" valign=\"top\">Amistad Academy District</th>\n",
       "      <th rowspan=\"2\" valign=\"top\">2016-17</th>\n",
       "      <th>ELA</th>\n",
       "      <td>=\"2790013\"</td>\n",
       "      <td>50</td>\n",
       "      <td>48</td>\n",
       "      <td>96.0</td>\n",
       "      <td>47</td>\n",
       "      <td>*</td>\n",
       "      <td>*</td>\n",
       "      <td>9</td>\n",
       "      <td>19.1</td>\n",
       "      <td>33</td>\n",
       "      <td>70.2</td>\n",
       "      <td>*</td>\n",
       "      <td>*</td>\n",
       "      <td>*</td>\n",
       "      <td>*</td>\n",
       "      <td>511</td>\n",
       "    </tr>\n",
       "    <tr>\n",
       "      <th>Math</th>\n",
       "      <td>=\"2790013\"</td>\n",
       "      <td>50</td>\n",
       "      <td>48</td>\n",
       "      <td>96.0</td>\n",
       "      <td>47</td>\n",
       "      <td>10</td>\n",
       "      <td>21.3</td>\n",
       "      <td>28</td>\n",
       "      <td>59.6</td>\n",
       "      <td>9</td>\n",
       "      <td>19.1</td>\n",
       "      <td>0</td>\n",
       "      <td>0.0</td>\n",
       "      <td>9</td>\n",
       "      <td>19.1</td>\n",
       "      <td>467</td>\n",
       "    </tr>\n",
       "    <tr>\n",
       "      <th rowspan=\"2\" valign=\"top\">Ansonia School District</th>\n",
       "      <th rowspan=\"2\" valign=\"top\">2016-17</th>\n",
       "      <th>ELA</th>\n",
       "      <td>=\"0020011\"</td>\n",
       "      <td>134</td>\n",
       "      <td>127</td>\n",
       "      <td>94.8</td>\n",
       "      <td>127</td>\n",
       "      <td>38</td>\n",
       "      <td>29.9</td>\n",
       "      <td>26</td>\n",
       "      <td>20.5</td>\n",
       "      <td>52</td>\n",
       "      <td>40.9</td>\n",
       "      <td>11</td>\n",
       "      <td>8.7</td>\n",
       "      <td>63</td>\n",
       "      <td>49.6</td>\n",
       "      <td>478</td>\n",
       "    </tr>\n",
       "    <tr>\n",
       "      <th>Math</th>\n",
       "      <td>=\"0020011\"</td>\n",
       "      <td>134</td>\n",
       "      <td>127</td>\n",
       "      <td>94.8</td>\n",
       "      <td>126</td>\n",
       "      <td>57</td>\n",
       "      <td>45.2</td>\n",
       "      <td>48</td>\n",
       "      <td>38.1</td>\n",
       "      <td>*</td>\n",
       "      <td>*</td>\n",
       "      <td>*</td>\n",
       "      <td>*</td>\n",
       "      <td>21</td>\n",
       "      <td>16.7</td>\n",
       "      <td>444</td>\n",
       "    </tr>\n",
       "    <tr>\n",
       "      <th rowspan=\"2\" valign=\"top\">Area Cooperative Educational Services</th>\n",
       "      <th rowspan=\"2\" valign=\"top\">2016-17</th>\n",
       "      <th>ELA</th>\n",
       "      <td>=\"2440014\"</td>\n",
       "      <td>18</td>\n",
       "      <td>15</td>\n",
       "      <td>*</td>\n",
       "      <td>15</td>\n",
       "      <td>*</td>\n",
       "      <td>*</td>\n",
       "      <td>*</td>\n",
       "      <td>*</td>\n",
       "      <td>*</td>\n",
       "      <td>*</td>\n",
       "      <td>*</td>\n",
       "      <td>*</td>\n",
       "      <td>*</td>\n",
       "      <td>*</td>\n",
       "      <td>*</td>\n",
       "    </tr>\n",
       "    <tr>\n",
       "      <th>Math</th>\n",
       "      <td>=\"2440014\"</td>\n",
       "      <td>18</td>\n",
       "      <td>15</td>\n",
       "      <td>*</td>\n",
       "      <td>13</td>\n",
       "      <td>*</td>\n",
       "      <td>*</td>\n",
       "      <td>*</td>\n",
       "      <td>*</td>\n",
       "      <td>*</td>\n",
       "      <td>*</td>\n",
       "      <td>*</td>\n",
       "      <td>*</td>\n",
       "      <td>*</td>\n",
       "      <td>*</td>\n",
       "      <td>*</td>\n",
       "    </tr>\n",
       "    <tr>\n",
       "      <th rowspan=\"2\" valign=\"top\">Avon School District</th>\n",
       "      <th rowspan=\"2\" valign=\"top\">2016-17</th>\n",
       "      <th>ELA</th>\n",
       "      <td>=\"0040011\"</td>\n",
       "      <td>285</td>\n",
       "      <td>282</td>\n",
       "      <td>98.9</td>\n",
       "      <td>282</td>\n",
       "      <td>14</td>\n",
       "      <td>5.0</td>\n",
       "      <td>19</td>\n",
       "      <td>6.7</td>\n",
       "      <td>120</td>\n",
       "      <td>42.6</td>\n",
       "      <td>129</td>\n",
       "      <td>45.7</td>\n",
       "      <td>249</td>\n",
       "      <td>88.3</td>\n",
       "      <td>603</td>\n",
       "    </tr>\n",
       "    <tr>\n",
       "      <th>Math</th>\n",
       "      <td>=\"0040011\"</td>\n",
       "      <td>285</td>\n",
       "      <td>282</td>\n",
       "      <td>98.9</td>\n",
       "      <td>282</td>\n",
       "      <td>13</td>\n",
       "      <td>4.6</td>\n",
       "      <td>46</td>\n",
       "      <td>16.3</td>\n",
       "      <td>104</td>\n",
       "      <td>36.9</td>\n",
       "      <td>119</td>\n",
       "      <td>42.2</td>\n",
       "      <td>223</td>\n",
       "      <td>79.1</td>\n",
       "      <td>611</td>\n",
       "    </tr>\n",
       "  </tbody>\n",
       "</table>\n",
       "</div>"
      ],
      "text/plain": [
       "                                                                 District Code  \\\n",
       "District                                         year    Subject                 \n",
       "Achievement First Hartford Academy Inc. District 2016-17 ELA        =\"2880013\"   \n",
       "                                                         Math       =\"2880013\"   \n",
       "Amistad Academy District                         2016-17 ELA        =\"2790013\"   \n",
       "                                                         Math       =\"2790013\"   \n",
       "Ansonia School District                          2016-17 ELA        =\"0020011\"   \n",
       "                                                         Math       =\"0020011\"   \n",
       "Area Cooperative Educational Services            2016-17 ELA        =\"2440014\"   \n",
       "                                                         Math       =\"2440014\"   \n",
       "Avon School District                             2016-17 ELA        =\"0040011\"   \n",
       "                                                         Math       =\"0040011\"   \n",
       "\n",
       "                                                                 Total Number of Students  \\\n",
       "District                                         year    Subject                            \n",
       "Achievement First Hartford Academy Inc. District 2016-17 ELA                           39   \n",
       "                                                         Math                          39   \n",
       "Amistad Academy District                         2016-17 ELA                           50   \n",
       "                                                         Math                          50   \n",
       "Ansonia School District                          2016-17 ELA                          134   \n",
       "                                                         Math                         134   \n",
       "Area Cooperative Educational Services            2016-17 ELA                           18   \n",
       "                                                         Math                          18   \n",
       "Avon School District                             2016-17 ELA                          285   \n",
       "                                                         Math                         285   \n",
       "\n",
       "                                                                 Total Number Tested  \\\n",
       "District                                         year    Subject                       \n",
       "Achievement First Hartford Academy Inc. District 2016-17 ELA                      39   \n",
       "                                                         Math                     39   \n",
       "Amistad Academy District                         2016-17 ELA                      48   \n",
       "                                                         Math                     48   \n",
       "Ansonia School District                          2016-17 ELA                     127   \n",
       "                                                         Math                    127   \n",
       "Area Cooperative Educational Services            2016-17 ELA                      15   \n",
       "                                                         Math                     15   \n",
       "Avon School District                             2016-17 ELA                     282   \n",
       "                                                         Math                    282   \n",
       "\n",
       "                                                                 Connecticut School Day SAT Participation Rate  \\\n",
       "District                                         year    Subject                                                 \n",
       "Achievement First Hartford Academy Inc. District 2016-17 ELA                                             100.0   \n",
       "                                                         Math                                            100.0   \n",
       "Amistad Academy District                         2016-17 ELA                                              96.0   \n",
       "                                                         Math                                             96.0   \n",
       "Ansonia School District                          2016-17 ELA                                              94.8   \n",
       "                                                         Math                                             94.8   \n",
       "Area Cooperative Educational Services            2016-17 ELA                                                 *   \n",
       "                                                         Math                                                *   \n",
       "Avon School District                             2016-17 ELA                                              98.9   \n",
       "                                                         Math                                             98.9   \n",
       "\n",
       "                                                                 Total Numberwith Scored Tests  \\\n",
       "District                                         year    Subject                                 \n",
       "Achievement First Hartford Academy Inc. District 2016-17 ELA                                39   \n",
       "                                                         Math                               38   \n",
       "Amistad Academy District                         2016-17 ELA                                47   \n",
       "                                                         Math                               47   \n",
       "Ansonia School District                          2016-17 ELA                               127   \n",
       "                                                         Math                              126   \n",
       "Area Cooperative Educational Services            2016-17 ELA                                15   \n",
       "                                                         Math                               13   \n",
       "Avon School District                             2016-17 ELA                               282   \n",
       "                                                         Math                              282   \n",
       "\n",
       "                                                                 Level 1 Not Met Count  \\\n",
       "District                                         year    Subject                         \n",
       "Achievement First Hartford Academy Inc. District 2016-17 ELA                         *   \n",
       "                                                         Math                        *   \n",
       "Amistad Academy District                         2016-17 ELA                         *   \n",
       "                                                         Math                       10   \n",
       "Ansonia School District                          2016-17 ELA                        38   \n",
       "                                                         Math                       57   \n",
       "Area Cooperative Educational Services            2016-17 ELA                         *   \n",
       "                                                         Math                        *   \n",
       "Avon School District                             2016-17 ELA                        14   \n",
       "                                                         Math                       13   \n",
       "\n",
       "                                                                 Level 1 Not Met Count %  \\\n",
       "District                                         year    Subject                           \n",
       "Achievement First Hartford Academy Inc. District 2016-17 ELA                           *   \n",
       "                                                         Math                          *   \n",
       "Amistad Academy District                         2016-17 ELA                           *   \n",
       "                                                         Math                       21.3   \n",
       "Ansonia School District                          2016-17 ELA                        29.9   \n",
       "                                                         Math                       45.2   \n",
       "Area Cooperative Educational Services            2016-17 ELA                           *   \n",
       "                                                         Math                          *   \n",
       "Avon School District                             2016-17 ELA                         5.0   \n",
       "                                                         Math                        4.6   \n",
       "\n",
       "                                                                 Level 2 Approaching Count  \\\n",
       "District                                         year    Subject                             \n",
       "Achievement First Hartford Academy Inc. District 2016-17 ELA                            10   \n",
       "                                                         Math                           20   \n",
       "Amistad Academy District                         2016-17 ELA                             9   \n",
       "                                                         Math                           28   \n",
       "Ansonia School District                          2016-17 ELA                            26   \n",
       "                                                         Math                           48   \n",
       "Area Cooperative Educational Services            2016-17 ELA                             *   \n",
       "                                                         Math                            *   \n",
       "Avon School District                             2016-17 ELA                            19   \n",
       "                                                         Math                           46   \n",
       "\n",
       "                                                                 Level 2 Approaching %  \\\n",
       "District                                         year    Subject                         \n",
       "Achievement First Hartford Academy Inc. District 2016-17 ELA                      25.6   \n",
       "                                                         Math                     52.6   \n",
       "Amistad Academy District                         2016-17 ELA                      19.1   \n",
       "                                                         Math                     59.6   \n",
       "Ansonia School District                          2016-17 ELA                      20.5   \n",
       "                                                         Math                     38.1   \n",
       "Area Cooperative Educational Services            2016-17 ELA                         *   \n",
       "                                                         Math                        *   \n",
       "Avon School District                             2016-17 ELA                       6.7   \n",
       "                                                         Math                     16.3   \n",
       "\n",
       "                                                                 Level 3 Met Count  \\\n",
       "District                                         year    Subject                     \n",
       "Achievement First Hartford Academy Inc. District 2016-17 ELA                    22   \n",
       "                                                         Math                   13   \n",
       "Amistad Academy District                         2016-17 ELA                    33   \n",
       "                                                         Math                    9   \n",
       "Ansonia School District                          2016-17 ELA                    52   \n",
       "                                                         Math                    *   \n",
       "Area Cooperative Educational Services            2016-17 ELA                     *   \n",
       "                                                         Math                    *   \n",
       "Avon School District                             2016-17 ELA                   120   \n",
       "                                                         Math                  104   \n",
       "\n",
       "                                                                 Level 3 Met Count %  \\\n",
       "District                                         year    Subject                       \n",
       "Achievement First Hartford Academy Inc. District 2016-17 ELA                    56.4   \n",
       "                                                         Math                   34.2   \n",
       "Amistad Academy District                         2016-17 ELA                    70.2   \n",
       "                                                         Math                   19.1   \n",
       "Ansonia School District                          2016-17 ELA                    40.9   \n",
       "                                                         Math                      *   \n",
       "Area Cooperative Educational Services            2016-17 ELA                       *   \n",
       "                                                         Math                      *   \n",
       "Avon School District                             2016-17 ELA                    42.6   \n",
       "                                                         Math                   36.9   \n",
       "\n",
       "                                                                 Level 4 Exceeded Count  \\\n",
       "District                                         year    Subject                          \n",
       "Achievement First Hartford Academy Inc. District 2016-17 ELA                          *   \n",
       "                                                         Math                         *   \n",
       "Amistad Academy District                         2016-17 ELA                          *   \n",
       "                                                         Math                         0   \n",
       "Ansonia School District                          2016-17 ELA                         11   \n",
       "                                                         Math                         *   \n",
       "Area Cooperative Educational Services            2016-17 ELA                          *   \n",
       "                                                         Math                         *   \n",
       "Avon School District                             2016-17 ELA                        129   \n",
       "                                                         Math                       119   \n",
       "\n",
       "                                                                 Level 4 Exceeded Count %  \\\n",
       "District                                         year    Subject                            \n",
       "Achievement First Hartford Academy Inc. District 2016-17 ELA                            *   \n",
       "                                                         Math                           *   \n",
       "Amistad Academy District                         2016-17 ELA                            *   \n",
       "                                                         Math                         0.0   \n",
       "Ansonia School District                          2016-17 ELA                          8.7   \n",
       "                                                         Math                           *   \n",
       "Area Cooperative Educational Services            2016-17 ELA                            *   \n",
       "                                                         Math                           *   \n",
       "Avon School District                             2016-17 ELA                         45.7   \n",
       "                                                         Math                        42.2   \n",
       "\n",
       "                                                                 Level 3&4 Met or Exceeded Count  \\\n",
       "District                                         year    Subject                                   \n",
       "Achievement First Hartford Academy Inc. District 2016-17 ELA                                   *   \n",
       "                                                         Math                                  *   \n",
       "Amistad Academy District                         2016-17 ELA                                   *   \n",
       "                                                         Math                                  9   \n",
       "Ansonia School District                          2016-17 ELA                                  63   \n",
       "                                                         Math                                 21   \n",
       "Area Cooperative Educational Services            2016-17 ELA                                   *   \n",
       "                                                         Math                                  *   \n",
       "Avon School District                             2016-17 ELA                                 249   \n",
       "                                                         Math                                223   \n",
       "\n",
       "                                                                 Level 3&4 Met or Exceeded %  \\\n",
       "District                                         year    Subject                               \n",
       "Achievement First Hartford Academy Inc. District 2016-17 ELA                               *   \n",
       "                                                         Math                              *   \n",
       "Amistad Academy District                         2016-17 ELA                               *   \n",
       "                                                         Math                           19.1   \n",
       "Ansonia School District                          2016-17 ELA                            49.6   \n",
       "                                                         Math                           16.7   \n",
       "Area Cooperative Educational Services            2016-17 ELA                               *   \n",
       "                                                         Math                              *   \n",
       "Avon School District                             2016-17 ELA                            88.3   \n",
       "                                                         Math                           79.1   \n",
       "\n",
       "                                                                 Average Score  \n",
       "District                                         year    Subject                \n",
       "Achievement First Hartford Academy Inc. District 2016-17 ELA               488  \n",
       "                                                         Math              494  \n",
       "Amistad Academy District                         2016-17 ELA               511  \n",
       "                                                         Math              467  \n",
       "Ansonia School District                          2016-17 ELA               478  \n",
       "                                                         Math              444  \n",
       "Area Cooperative Educational Services            2016-17 ELA                 *  \n",
       "                                                         Math                *  \n",
       "Avon School District                             2016-17 ELA               603  \n",
       "                                                         Math              611  "
      ]
     },
     "execution_count": 3,
     "metadata": {},
     "output_type": "execute_result"
    }
   ],
   "source": [
    "scores_17 = get_data(year=\"2016-17\")\n",
    "scores_16 = get_data(year=\"2015-16\")\n",
    "scores_17.head(10)"
   ]
  },
  {
   "cell_type": "code",
   "execution_count": 4,
   "metadata": {
    "collapsed": true
   },
   "outputs": [],
   "source": [
    "scores_both = pd.concat([scores_16,scores_17])"
   ]
  },
  {
   "cell_type": "code",
   "execution_count": 5,
   "metadata": {
    "collapsed": false
   },
   "outputs": [
    {
     "data": {
      "text/html": [
       "<div>\n",
       "<table border=\"1\" class=\"dataframe\">\n",
       "  <thead>\n",
       "    <tr style=\"text-align: right;\">\n",
       "      <th></th>\n",
       "      <th>% behind ela 2015-16</th>\n",
       "      <th>% behind ela 2016-17</th>\n",
       "      <th>% behind math 2015-16</th>\n",
       "      <th>% behind math 2016-17</th>\n",
       "      <th>% goal ela 2015-16</th>\n",
       "      <th>% goal ela 2016-17</th>\n",
       "      <th>% goal math 2015-16</th>\n",
       "      <th>% goal math 2016-17</th>\n",
       "      <th>avg score ela 2015-16</th>\n",
       "      <th>avg score ela 2016-17</th>\n",
       "      <th>avg score math 2015-16</th>\n",
       "      <th>avg score math 2016-17</th>\n",
       "      <th>num tested ela 2015-16</th>\n",
       "      <th>num tested ela 2016-17</th>\n",
       "      <th>num tested math 2015-16</th>\n",
       "      <th>num tested math 2016-17</th>\n",
       "      <th>math score diff</th>\n",
       "      <th>ela score diff</th>\n",
       "      <th>math % goal diff</th>\n",
       "      <th>ela % goal diff</th>\n",
       "    </tr>\n",
       "    <tr>\n",
       "      <th>district</th>\n",
       "      <th></th>\n",
       "      <th></th>\n",
       "      <th></th>\n",
       "      <th></th>\n",
       "      <th></th>\n",
       "      <th></th>\n",
       "      <th></th>\n",
       "      <th></th>\n",
       "      <th></th>\n",
       "      <th></th>\n",
       "      <th></th>\n",
       "      <th></th>\n",
       "      <th></th>\n",
       "      <th></th>\n",
       "      <th></th>\n",
       "      <th></th>\n",
       "      <th></th>\n",
       "      <th></th>\n",
       "      <th></th>\n",
       "      <th></th>\n",
       "    </tr>\n",
       "  </thead>\n",
       "  <tbody>\n",
       "    <tr>\n",
       "      <th>Achievement First Hartford Academy Inc. District</th>\n",
       "      <td>NaN</td>\n",
       "      <td>NaN</td>\n",
       "      <td>NaN</td>\n",
       "      <td>NaN</td>\n",
       "      <td>NaN</td>\n",
       "      <td>NaN</td>\n",
       "      <td>NaN</td>\n",
       "      <td>NaN</td>\n",
       "      <td>529.0</td>\n",
       "      <td>488.0</td>\n",
       "      <td>537.0</td>\n",
       "      <td>494.0</td>\n",
       "      <td>30</td>\n",
       "      <td>39</td>\n",
       "      <td>30</td>\n",
       "      <td>39</td>\n",
       "      <td>-43.0</td>\n",
       "      <td>-41.0</td>\n",
       "      <td>NaN</td>\n",
       "      <td>NaN</td>\n",
       "    </tr>\n",
       "    <tr>\n",
       "      <th>Amistad Academy District</th>\n",
       "      <td>13.6</td>\n",
       "      <td>NaN</td>\n",
       "      <td>25.0</td>\n",
       "      <td>21.3</td>\n",
       "      <td>NaN</td>\n",
       "      <td>NaN</td>\n",
       "      <td>22.7</td>\n",
       "      <td>19.1</td>\n",
       "      <td>515.0</td>\n",
       "      <td>511.0</td>\n",
       "      <td>470.0</td>\n",
       "      <td>467.0</td>\n",
       "      <td>44</td>\n",
       "      <td>48</td>\n",
       "      <td>44</td>\n",
       "      <td>48</td>\n",
       "      <td>-3.0</td>\n",
       "      <td>-4.0</td>\n",
       "      <td>-3.6</td>\n",
       "      <td>NaN</td>\n",
       "    </tr>\n",
       "    <tr>\n",
       "      <th>Ansonia School District</th>\n",
       "      <td>26.8</td>\n",
       "      <td>29.9</td>\n",
       "      <td>42.0</td>\n",
       "      <td>45.2</td>\n",
       "      <td>NaN</td>\n",
       "      <td>49.6</td>\n",
       "      <td>21.7</td>\n",
       "      <td>16.7</td>\n",
       "      <td>476.0</td>\n",
       "      <td>478.0</td>\n",
       "      <td>448.0</td>\n",
       "      <td>444.0</td>\n",
       "      <td>138</td>\n",
       "      <td>127</td>\n",
       "      <td>138</td>\n",
       "      <td>127</td>\n",
       "      <td>-4.0</td>\n",
       "      <td>2.0</td>\n",
       "      <td>-5.0</td>\n",
       "      <td>NaN</td>\n",
       "    </tr>\n",
       "    <tr>\n",
       "      <th>Area Cooperative Educational Services</th>\n",
       "      <td>NaN</td>\n",
       "      <td>NaN</td>\n",
       "      <td>NaN</td>\n",
       "      <td>NaN</td>\n",
       "      <td>NaN</td>\n",
       "      <td>NaN</td>\n",
       "      <td>NaN</td>\n",
       "      <td>NaN</td>\n",
       "      <td>NaN</td>\n",
       "      <td>NaN</td>\n",
       "      <td>NaN</td>\n",
       "      <td>NaN</td>\n",
       "      <td>19</td>\n",
       "      <td>15</td>\n",
       "      <td>19</td>\n",
       "      <td>15</td>\n",
       "      <td>NaN</td>\n",
       "      <td>NaN</td>\n",
       "      <td>NaN</td>\n",
       "      <td>NaN</td>\n",
       "    </tr>\n",
       "    <tr>\n",
       "      <th>Avon School District</th>\n",
       "      <td>3.3</td>\n",
       "      <td>5.0</td>\n",
       "      <td>5.3</td>\n",
       "      <td>4.6</td>\n",
       "      <td>90.1</td>\n",
       "      <td>88.3</td>\n",
       "      <td>76.6</td>\n",
       "      <td>79.1</td>\n",
       "      <td>607.0</td>\n",
       "      <td>603.0</td>\n",
       "      <td>603.0</td>\n",
       "      <td>611.0</td>\n",
       "      <td>245</td>\n",
       "      <td>282</td>\n",
       "      <td>245</td>\n",
       "      <td>282</td>\n",
       "      <td>8.0</td>\n",
       "      <td>-4.0</td>\n",
       "      <td>2.5</td>\n",
       "      <td>-1.8</td>\n",
       "    </tr>\n",
       "  </tbody>\n",
       "</table>\n",
       "</div>"
      ],
      "text/plain": [
       "                                                  % behind ela 2015-16  \\\n",
       "district                                                                 \n",
       "Achievement First Hartford Academy Inc. District                   NaN   \n",
       "Amistad Academy District                                          13.6   \n",
       "Ansonia School District                                           26.8   \n",
       "Area Cooperative Educational Services                              NaN   \n",
       "Avon School District                                               3.3   \n",
       "\n",
       "                                                  % behind ela 2016-17  \\\n",
       "district                                                                 \n",
       "Achievement First Hartford Academy Inc. District                   NaN   \n",
       "Amistad Academy District                                           NaN   \n",
       "Ansonia School District                                           29.9   \n",
       "Area Cooperative Educational Services                              NaN   \n",
       "Avon School District                                               5.0   \n",
       "\n",
       "                                                  % behind math 2015-16  \\\n",
       "district                                                                  \n",
       "Achievement First Hartford Academy Inc. District                    NaN   \n",
       "Amistad Academy District                                           25.0   \n",
       "Ansonia School District                                            42.0   \n",
       "Area Cooperative Educational Services                               NaN   \n",
       "Avon School District                                                5.3   \n",
       "\n",
       "                                                  % behind math 2016-17  \\\n",
       "district                                                                  \n",
       "Achievement First Hartford Academy Inc. District                    NaN   \n",
       "Amistad Academy District                                           21.3   \n",
       "Ansonia School District                                            45.2   \n",
       "Area Cooperative Educational Services                               NaN   \n",
       "Avon School District                                                4.6   \n",
       "\n",
       "                                                  % goal ela 2015-16  \\\n",
       "district                                                               \n",
       "Achievement First Hartford Academy Inc. District                 NaN   \n",
       "Amistad Academy District                                         NaN   \n",
       "Ansonia School District                                          NaN   \n",
       "Area Cooperative Educational Services                            NaN   \n",
       "Avon School District                                            90.1   \n",
       "\n",
       "                                                  % goal ela 2016-17  \\\n",
       "district                                                               \n",
       "Achievement First Hartford Academy Inc. District                 NaN   \n",
       "Amistad Academy District                                         NaN   \n",
       "Ansonia School District                                         49.6   \n",
       "Area Cooperative Educational Services                            NaN   \n",
       "Avon School District                                            88.3   \n",
       "\n",
       "                                                  % goal math 2015-16  \\\n",
       "district                                                                \n",
       "Achievement First Hartford Academy Inc. District                  NaN   \n",
       "Amistad Academy District                                         22.7   \n",
       "Ansonia School District                                          21.7   \n",
       "Area Cooperative Educational Services                             NaN   \n",
       "Avon School District                                             76.6   \n",
       "\n",
       "                                                  % goal math 2016-17  \\\n",
       "district                                                                \n",
       "Achievement First Hartford Academy Inc. District                  NaN   \n",
       "Amistad Academy District                                         19.1   \n",
       "Ansonia School District                                          16.7   \n",
       "Area Cooperative Educational Services                             NaN   \n",
       "Avon School District                                             79.1   \n",
       "\n",
       "                                                  avg score ela 2015-16  \\\n",
       "district                                                                  \n",
       "Achievement First Hartford Academy Inc. District                  529.0   \n",
       "Amistad Academy District                                          515.0   \n",
       "Ansonia School District                                           476.0   \n",
       "Area Cooperative Educational Services                               NaN   \n",
       "Avon School District                                              607.0   \n",
       "\n",
       "                                                  avg score ela 2016-17  \\\n",
       "district                                                                  \n",
       "Achievement First Hartford Academy Inc. District                  488.0   \n",
       "Amistad Academy District                                          511.0   \n",
       "Ansonia School District                                           478.0   \n",
       "Area Cooperative Educational Services                               NaN   \n",
       "Avon School District                                              603.0   \n",
       "\n",
       "                                                  avg score math 2015-16  \\\n",
       "district                                                                   \n",
       "Achievement First Hartford Academy Inc. District                   537.0   \n",
       "Amistad Academy District                                           470.0   \n",
       "Ansonia School District                                            448.0   \n",
       "Area Cooperative Educational Services                                NaN   \n",
       "Avon School District                                               603.0   \n",
       "\n",
       "                                                  avg score math 2016-17  \\\n",
       "district                                                                   \n",
       "Achievement First Hartford Academy Inc. District                   494.0   \n",
       "Amistad Academy District                                           467.0   \n",
       "Ansonia School District                                            444.0   \n",
       "Area Cooperative Educational Services                                NaN   \n",
       "Avon School District                                               611.0   \n",
       "\n",
       "                                                 num tested ela 2015-16  \\\n",
       "district                                                                  \n",
       "Achievement First Hartford Academy Inc. District                     30   \n",
       "Amistad Academy District                                             44   \n",
       "Ansonia School District                                             138   \n",
       "Area Cooperative Educational Services                                19   \n",
       "Avon School District                                                245   \n",
       "\n",
       "                                                 num tested ela 2016-17  \\\n",
       "district                                                                  \n",
       "Achievement First Hartford Academy Inc. District                     39   \n",
       "Amistad Academy District                                             48   \n",
       "Ansonia School District                                             127   \n",
       "Area Cooperative Educational Services                                15   \n",
       "Avon School District                                                282   \n",
       "\n",
       "                                                 num tested math 2015-16  \\\n",
       "district                                                                   \n",
       "Achievement First Hartford Academy Inc. District                      30   \n",
       "Amistad Academy District                                              44   \n",
       "Ansonia School District                                              138   \n",
       "Area Cooperative Educational Services                                 19   \n",
       "Avon School District                                                 245   \n",
       "\n",
       "                                                 num tested math 2016-17  \\\n",
       "district                                                                   \n",
       "Achievement First Hartford Academy Inc. District                      39   \n",
       "Amistad Academy District                                              48   \n",
       "Ansonia School District                                              127   \n",
       "Area Cooperative Educational Services                                 15   \n",
       "Avon School District                                                 282   \n",
       "\n",
       "                                                  math score diff  \\\n",
       "district                                                            \n",
       "Achievement First Hartford Academy Inc. District            -43.0   \n",
       "Amistad Academy District                                     -3.0   \n",
       "Ansonia School District                                      -4.0   \n",
       "Area Cooperative Educational Services                         NaN   \n",
       "Avon School District                                          8.0   \n",
       "\n",
       "                                                  ela score diff  \\\n",
       "district                                                           \n",
       "Achievement First Hartford Academy Inc. District           -41.0   \n",
       "Amistad Academy District                                    -4.0   \n",
       "Ansonia School District                                      2.0   \n",
       "Area Cooperative Educational Services                        NaN   \n",
       "Avon School District                                        -4.0   \n",
       "\n",
       "                                                  math % goal diff  \\\n",
       "district                                                             \n",
       "Achievement First Hartford Academy Inc. District               NaN   \n",
       "Amistad Academy District                                      -3.6   \n",
       "Ansonia School District                                       -5.0   \n",
       "Area Cooperative Educational Services                          NaN   \n",
       "Avon School District                                           2.5   \n",
       "\n",
       "                                                  ela % goal diff  \n",
       "district                                                           \n",
       "Achievement First Hartford Academy Inc. District              NaN  \n",
       "Amistad Academy District                                      NaN  \n",
       "Ansonia School District                                       NaN  \n",
       "Area Cooperative Educational Services                         NaN  \n",
       "Avon School District                                         -1.8  "
      ]
     },
     "execution_count": 5,
     "metadata": {},
     "output_type": "execute_result"
    }
   ],
   "source": [
    "districts = []\n",
    "for index, row in scores_both.iterrows():\n",
    "    if index[0] not in districts:\n",
    "        districts.append(index[0])\n",
    "def make_delta_df():\n",
    "    ret = []\n",
    "    for dist in districts:\n",
    "        \n",
    "        row ={}\n",
    "        row[\"district\"] = dist\n",
    "        \n",
    "        def add_col(new_c, old_c):\n",
    "            \n",
    "            def add_col_y(year,cat):\n",
    "#                 row[new_c + \" \" + cat.lower() + \" \" + year] = scores_both.loc[dist, year, cat][old_c]\n",
    "\n",
    "                try:\n",
    "                    row[new_c + \" \" + cat.lower() + \" \" + year] = scores_both.loc[dist, year, cat][old_c]\n",
    "                    #row[new_c + \" \" + cat.lower() + \" \" + year] = scores_both.loc[dist, y, cat][old_c]\n",
    "                except:\n",
    "                    row[new_c + \" \" + cat.lower() + \" \" + year] = None\n",
    "            \n",
    "            add_col_y(\"2015-16\",\"Math\")\n",
    "            add_col_y(\"2015-16\",\"ELA\")\n",
    "            add_col_y(\"2016-17\",\"Math\")\n",
    "            add_col_y(\"2016-17\",\"ELA\")\n",
    " \n",
    "        add_col(\"num tested\",\"Total Number Tested\")\n",
    "        add_col(\"avg score\",\"Average Score\")\n",
    "        add_col(\"% goal\",\"Level 3&4 Met or Exceeded %\")\n",
    "        add_col(\"% behind\",\"Level 1 Not Met Count %\")\n",
    "\n",
    "        ret.append( row )\n",
    "        \n",
    "    ret = pd.DataFrame(ret).set_index(\"district\")\n",
    "    \n",
    "    \n",
    "    def num_col(c):\n",
    "        ret[c] = pd.to_numeric(ret[c],errors=\"coerce\")\n",
    "        \n",
    "    num_col(\"avg score math 2015-16\")\n",
    "    num_col(\"avg score math 2016-17\")\n",
    "    num_col(\"avg score ela 2015-16\")\n",
    "    num_col(\"avg score ela 2016-17\")\n",
    "    \n",
    "    num_col(\"% goal math 2015-16\")\n",
    "    num_col(\"% goal math 2016-17\")\n",
    "    num_col(\"% goal ela 2015-16\")\n",
    "    num_col(\"% goal ela 2016-17\")\n",
    "    \n",
    "    num_col(\"% behind math 2015-16\")\n",
    "    num_col(\"% behind math 2016-17\")\n",
    "    num_col(\"% behind ela 2015-16\")\n",
    "    num_col(\"% behind ela 2016-17\")\n",
    "\n",
    "\n",
    "    \n",
    "    ret[\"math score diff\"] = pd.to_numeric(ret[\"avg score math 2016-17\"],errors=\"coerce\")\\\n",
    "    - pd.to_numeric(ret[\"avg score math 2015-16\"], errors=\"coerce\")\n",
    "        \n",
    "    ret[\"ela score diff\"] = pd.to_numeric(ret[\"avg score ela 2016-17\"],errors=\"coerce\")\\\n",
    "    - pd.to_numeric(ret[\"avg score ela 2015-16\"], errors=\"coerce\")\n",
    "        \n",
    "    ret[\"math % goal diff\"] = pd.to_numeric(ret[\"% goal math 2016-17\"],errors=\"coerce\")\\\n",
    "    - pd.to_numeric(ret[\"% goal math 2015-16\"], errors=\"coerce\")\n",
    "    \n",
    "    ret[\"ela % goal diff\"] = pd.to_numeric(ret[\"% goal ela 2016-17\"],errors=\"coerce\")\\\n",
    "    - pd.to_numeric(ret[\"% goal ela 2015-16\"], errors=\"coerce\")\n",
    "\n",
    "\n",
    "    return ret\n",
    "        \n",
    "delta_df = make_delta_df()\n",
    "delta_df.head()"
   ]
  },
  {
   "cell_type": "code",
   "execution_count": 6,
   "metadata": {
    "collapsed": true
   },
   "outputs": [],
   "source": [
    "%matplotlib inline\n",
    "import matplotlib.pyplot as plt\n",
    "import matplotlib\n",
    "matplotlib.style.use('ggplot')"
   ]
  },
  {
   "cell_type": "markdown",
   "metadata": {},
   "source": [
    "# Part 2: Exploratory analysis"
   ]
  },
  {
   "cell_type": "markdown",
   "metadata": {},
   "source": [
    "# Distribution of change in scores "
   ]
  },
  {
   "cell_type": "code",
   "execution_count": 7,
   "metadata": {
    "collapsed": false
   },
   "outputs": [
    {
     "data": {
      "text/plain": [
       "<matplotlib.axes._subplots.AxesSubplot at 0x108b64290>"
      ]
     },
     "execution_count": 7,
     "metadata": {},
     "output_type": "execute_result"
    },
    {
     "data": {
      "image/png": "[encoded data removed]",
      "text/plain": [
       "<matplotlib.figure.Figure at 0x108b51a10>"
      ]
     },
     "metadata": {},
     "output_type": "display_data"
    }
   ],
   "source": [
    "delta_df[\"math score diff\"].apply(lambda x: x - x % 10).value_counts().sort_index().to_frame().plot.bar()"
   ]
  },
  {
   "cell_type": "code",
   "execution_count": 8,
   "metadata": {
    "collapsed": false
   },
   "outputs": [
    {
     "data": {
      "text/plain": [
       "<matplotlib.axes._subplots.AxesSubplot at 0x108d40110>"
      ]
     },
     "execution_count": 8,
     "metadata": {},
     "output_type": "execute_result"
    },
    {
     "data": {
      "image/png": "[encoded data removed]",
      "text/plain": [
       "<matplotlib.figure.Figure at 0x108b78cd0>"
      ]
     },
     "metadata": {},
     "output_type": "display_data"
    }
   ],
   "source": [
    "delta_df[\"ela score diff\"].apply(lambda x: x - x % 10).value_counts().sort_index().to_frame().plot.bar()"
   ]
  },
  {
   "cell_type": "markdown",
   "metadata": {},
   "source": [
    "# Frequency of 'significant' gains, increases\n",
    "\n",
    "Above, it looks like maybe more schools made gains in math scores than in ELA. Let's see if that's true.\n"
   ]
  },
  {
   "cell_type": "code",
   "execution_count": 9,
   "metadata": {
    "collapsed": false
   },
   "outputs": [
    {
     "name": "stdout",
     "output_type": "stream",
     "text": [
      "51\n",
      "20\n"
     ]
    }
   ],
   "source": [
    "# Number of schools with ELA score increases greater than/equal to 10 and 20 points\n",
    "print len(delta_df[delta_df[\"ela score diff\"] >= 10])\n",
    "print len(delta_df[delta_df[\"ela score diff\"] >= 20])"
   ]
  },
  {
   "cell_type": "code",
   "execution_count": 10,
   "metadata": {
    "collapsed": false
   },
   "outputs": [
    {
     "name": "stdout",
     "output_type": "stream",
     "text": [
      "17\n",
      "7\n"
     ]
    }
   ],
   "source": [
    "# Number of schools with 10+ point decrecases in ELA\n",
    "print len(delta_df[delta_df[\"ela score diff\"] <= -10])\n",
    "print len(delta_df[delta_df[\"ela score diff\"] <= -20])"
   ]
  },
  {
   "cell_type": "code",
   "execution_count": 11,
   "metadata": {
    "collapsed": false
   },
   "outputs": [
    {
     "name": "stdout",
     "output_type": "stream",
     "text": [
      "55\n",
      "18\n"
     ]
    }
   ],
   "source": [
    "# Number of schools with 10+ point increases in Math\n",
    "print len(delta_df[delta_df[\"math score diff\"] >= 10])\n",
    "print len(delta_df[delta_df[\"math score diff\"] >= 20])"
   ]
  },
  {
   "cell_type": "code",
   "execution_count": 12,
   "metadata": {
    "collapsed": false
   },
   "outputs": [
    {
     "name": "stdout",
     "output_type": "stream",
     "text": [
      "12\n",
      "3\n"
     ]
    }
   ],
   "source": [
    "# Number of schools with 10+ point decrecases in Math\n",
    "print len(delta_df[delta_df[\"math score diff\"] <= -10])\n",
    "print len(delta_df[delta_df[\"math score diff\"] <= -20])"
   ]
  },
  {
   "cell_type": "markdown",
   "metadata": {},
   "source": [
    "# Correlation between score changes\n",
    "\n",
    "Firs the plot, then the correlation numbers"
   ]
  },
  {
   "cell_type": "code",
   "execution_count": 13,
   "metadata": {
    "collapsed": false
   },
   "outputs": [
    {
     "data": {
      "text/plain": [
       "<matplotlib.axes._subplots.AxesSubplot at 0x108d84950>"
      ]
     },
     "execution_count": 13,
     "metadata": {},
     "output_type": "execute_result"
    },
    {
     "data": {
      "image/png": "[encoded data removed]",
      "text/plain": [
       "<matplotlib.figure.Figure at 0x108b512d0>"
      ]
     },
     "metadata": {},
     "output_type": "display_data"
    }
   ],
   "source": [
    "delta_df.plot.scatter(x=\"ela score diff\",\n",
    "                      y=\"math score diff\")"
   ]
  },
  {
   "cell_type": "code",
   "execution_count": 14,
   "metadata": {
    "collapsed": false
   },
   "outputs": [
    {
     "data": {
      "text/html": [
       "<div>\n",
       "<table border=\"1\" class=\"dataframe\">\n",
       "  <thead>\n",
       "    <tr style=\"text-align: right;\">\n",
       "      <th></th>\n",
       "      <th>ela score diff</th>\n",
       "      <th>math score diff</th>\n",
       "    </tr>\n",
       "  </thead>\n",
       "  <tbody>\n",
       "    <tr>\n",
       "      <th>ela score diff</th>\n",
       "      <td>1.00000</td>\n",
       "      <td>0.75008</td>\n",
       "    </tr>\n",
       "    <tr>\n",
       "      <th>math score diff</th>\n",
       "      <td>0.75008</td>\n",
       "      <td>1.00000</td>\n",
       "    </tr>\n",
       "  </tbody>\n",
       "</table>\n",
       "</div>"
      ],
      "text/plain": [
       "                 ela score diff  math score diff\n",
       "ela score diff          1.00000          0.75008\n",
       "math score diff         0.75008          1.00000"
      ]
     },
     "execution_count": 14,
     "metadata": {},
     "output_type": "execute_result"
    }
   ],
   "source": [
    "delta_df[[\"ela score diff\",\"math score diff\"]].corr()"
   ]
  },
  {
   "cell_type": "code",
   "execution_count": 15,
   "metadata": {
    "collapsed": false
   },
   "outputs": [
    {
     "data": {
      "text/html": [
       "<div>\n",
       "<table border=\"1\" class=\"dataframe\">\n",
       "  <thead>\n",
       "    <tr style=\"text-align: right;\">\n",
       "      <th></th>\n",
       "      <th>ela score diff</th>\n",
       "      <th>avg score ela 2015-16</th>\n",
       "    </tr>\n",
       "  </thead>\n",
       "  <tbody>\n",
       "    <tr>\n",
       "      <th>ela score diff</th>\n",
       "      <td>1.000000</td>\n",
       "      <td>0.024102</td>\n",
       "    </tr>\n",
       "    <tr>\n",
       "      <th>avg score ela 2015-16</th>\n",
       "      <td>0.024102</td>\n",
       "      <td>1.000000</td>\n",
       "    </tr>\n",
       "  </tbody>\n",
       "</table>\n",
       "</div>"
      ],
      "text/plain": [
       "                       ela score diff  avg score ela 2015-16\n",
       "ela score diff               1.000000               0.024102\n",
       "avg score ela 2015-16        0.024102               1.000000"
      ]
     },
     "execution_count": 15,
     "metadata": {},
     "output_type": "execute_result"
    }
   ],
   "source": [
    "\n",
    "# What's the correlation between ELA score change and ELA score in 2016?\n",
    "# Not a lot.\n",
    "delta_df[[\"ela score diff\",\"avg score ela 2015-16\"]].corr()"
   ]
  },
  {
   "cell_type": "markdown",
   "metadata": {},
   "source": [
    "# Outliers?\n",
    "\n",
    "Which schools had the biggest difference in math change versus ELA change? Are any schools getting better in one area and worse in another, or else just making very asymmetric improvements?"
   ]
  },
  {
   "cell_type": "code",
   "execution_count": 16,
   "metadata": {
    "collapsed": false
   },
   "outputs": [
    {
     "name": "stderr",
     "output_type": "stream",
     "text": [
      "/usr/local/lib/python2.7/site-packages/ipykernel/__main__.py:2: SettingWithCopyWarning: \n",
      "A value is trying to be set on a copy of a slice from a DataFrame.\n",
      "Try using .loc[row_indexer,col_indexer] = value instead\n",
      "\n",
      "See the caveats in the documentation: http://pandas.pydata.org/pandas-docs/stable/indexing.html#indexing-view-versus-copy\n",
      "  from ipykernel import kernelapp as app\n"
     ]
    },
    {
     "data": {
      "text/html": [
       "<div>\n",
       "<table border=\"1\" class=\"dataframe\">\n",
       "  <thead>\n",
       "    <tr style=\"text-align: right;\">\n",
       "      <th></th>\n",
       "      <th>ela score diff</th>\n",
       "      <th>math score diff</th>\n",
       "      <th>diff diff</th>\n",
       "    </tr>\n",
       "    <tr>\n",
       "      <th>district</th>\n",
       "      <th></th>\n",
       "      <th></th>\n",
       "      <th></th>\n",
       "    </tr>\n",
       "  </thead>\n",
       "  <tbody>\n",
       "    <tr>\n",
       "      <th>Explorations District</th>\n",
       "      <td>-13.0</td>\n",
       "      <td>18.0</td>\n",
       "      <td>31.0</td>\n",
       "    </tr>\n",
       "    <tr>\n",
       "      <th>Colchester School District</th>\n",
       "      <td>-9.0</td>\n",
       "      <td>18.0</td>\n",
       "      <td>27.0</td>\n",
       "    </tr>\n",
       "    <tr>\n",
       "      <th>Thomaston School District</th>\n",
       "      <td>35.0</td>\n",
       "      <td>60.0</td>\n",
       "      <td>25.0</td>\n",
       "    </tr>\n",
       "    <tr>\n",
       "      <th>The Gilbert School District</th>\n",
       "      <td>-10.0</td>\n",
       "      <td>12.0</td>\n",
       "      <td>22.0</td>\n",
       "    </tr>\n",
       "    <tr>\n",
       "      <th>Clinton School District</th>\n",
       "      <td>9.0</td>\n",
       "      <td>30.0</td>\n",
       "      <td>21.0</td>\n",
       "    </tr>\n",
       "    <tr>\n",
       "      <th>East Granby School District</th>\n",
       "      <td>16.0</td>\n",
       "      <td>32.0</td>\n",
       "      <td>16.0</td>\n",
       "    </tr>\n",
       "    <tr>\n",
       "      <th>North Haven School District</th>\n",
       "      <td>-1.0</td>\n",
       "      <td>15.0</td>\n",
       "      <td>16.0</td>\n",
       "    </tr>\n",
       "    <tr>\n",
       "      <th>Meriden School District</th>\n",
       "      <td>-1.0</td>\n",
       "      <td>14.0</td>\n",
       "      <td>15.0</td>\n",
       "    </tr>\n",
       "    <tr>\n",
       "      <th>Eastern Connecticut Regional Educational Service Center (EASTCONN)</th>\n",
       "      <td>-15.0</td>\n",
       "      <td>0.0</td>\n",
       "      <td>15.0</td>\n",
       "    </tr>\n",
       "    <tr>\n",
       "      <th>Suffield School District</th>\n",
       "      <td>1.0</td>\n",
       "      <td>15.0</td>\n",
       "      <td>14.0</td>\n",
       "    </tr>\n",
       "  </tbody>\n",
       "</table>\n",
       "</div>"
      ],
      "text/plain": [
       "                                                    ela score diff  \\\n",
       "district                                                             \n",
       "Explorations District                                        -13.0   \n",
       "Colchester School District                                    -9.0   \n",
       "Thomaston School District                                     35.0   \n",
       "The Gilbert School District                                  -10.0   \n",
       "Clinton School District                                        9.0   \n",
       "East Granby School District                                   16.0   \n",
       "North Haven School District                                   -1.0   \n",
       "Meriden School District                                       -1.0   \n",
       "Eastern Connecticut Regional Educational Servic...           -15.0   \n",
       "Suffield School District                                       1.0   \n",
       "\n",
       "                                                    math score diff  diff diff  \n",
       "district                                                                        \n",
       "Explorations District                                          18.0       31.0  \n",
       "Colchester School District                                     18.0       27.0  \n",
       "Thomaston School District                                      60.0       25.0  \n",
       "The Gilbert School District                                    12.0       22.0  \n",
       "Clinton School District                                        30.0       21.0  \n",
       "East Granby School District                                    32.0       16.0  \n",
       "North Haven School District                                    15.0       16.0  \n",
       "Meriden School District                                        14.0       15.0  \n",
       "Eastern Connecticut Regional Educational Servic...              0.0       15.0  \n",
       "Suffield School District                                       15.0       14.0  "
      ]
     },
     "execution_count": 16,
     "metadata": {},
     "output_type": "execute_result"
    }
   ],
   "source": [
    "outlier_df = delta_df[[\"ela score diff\",\"math score diff\"]]\n",
    "outlier_df[\"diff diff\"] = outlier_df[\"math score diff\"] - outlier_df[\"ela score diff\"]\n",
    "outlier_df.sort_values(by=\"diff diff\",ascending=False).head(10)"
   ]
  },
  {
   "cell_type": "code",
   "execution_count": 17,
   "metadata": {
    "collapsed": false
   },
   "outputs": [
    {
     "data": {
      "text/html": [
       "<div>\n",
       "<table border=\"1\" class=\"dataframe\">\n",
       "  <thead>\n",
       "    <tr style=\"text-align: right;\">\n",
       "      <th></th>\n",
       "      <th>ela score diff</th>\n",
       "      <th>math score diff</th>\n",
       "      <th>diff diff</th>\n",
       "    </tr>\n",
       "    <tr>\n",
       "      <th>district</th>\n",
       "      <th></th>\n",
       "      <th></th>\n",
       "      <th></th>\n",
       "    </tr>\n",
       "  </thead>\n",
       "  <tbody>\n",
       "    <tr>\n",
       "      <th>Capital Preparatory Harbor School Inc. District</th>\n",
       "      <td>32.0</td>\n",
       "      <td>0.0</td>\n",
       "      <td>-32.0</td>\n",
       "    </tr>\n",
       "    <tr>\n",
       "      <th>Regional School District 12</th>\n",
       "      <td>21.0</td>\n",
       "      <td>-9.0</td>\n",
       "      <td>-30.0</td>\n",
       "    </tr>\n",
       "    <tr>\n",
       "      <th>Woodstock Academy District</th>\n",
       "      <td>15.0</td>\n",
       "      <td>-3.0</td>\n",
       "      <td>-18.0</td>\n",
       "    </tr>\n",
       "    <tr>\n",
       "      <th>Wethersfield School District</th>\n",
       "      <td>19.0</td>\n",
       "      <td>2.0</td>\n",
       "      <td>-17.0</td>\n",
       "    </tr>\n",
       "    <tr>\n",
       "      <th>Elm City College Preparatory School District</th>\n",
       "      <td>37.0</td>\n",
       "      <td>20.0</td>\n",
       "      <td>-17.0</td>\n",
       "    </tr>\n",
       "    <tr>\n",
       "      <th>Simsbury School District</th>\n",
       "      <td>26.0</td>\n",
       "      <td>9.0</td>\n",
       "      <td>-17.0</td>\n",
       "    </tr>\n",
       "    <tr>\n",
       "      <th>Greenwich School District</th>\n",
       "      <td>11.0</td>\n",
       "      <td>-5.0</td>\n",
       "      <td>-16.0</td>\n",
       "    </tr>\n",
       "    <tr>\n",
       "      <th>Common Ground High School District</th>\n",
       "      <td>51.0</td>\n",
       "      <td>35.0</td>\n",
       "      <td>-16.0</td>\n",
       "    </tr>\n",
       "    <tr>\n",
       "      <th>Ledyard School District</th>\n",
       "      <td>11.0</td>\n",
       "      <td>-3.0</td>\n",
       "      <td>-14.0</td>\n",
       "    </tr>\n",
       "    <tr>\n",
       "      <th>Plainville School District</th>\n",
       "      <td>17.0</td>\n",
       "      <td>4.0</td>\n",
       "      <td>-13.0</td>\n",
       "    </tr>\n",
       "  </tbody>\n",
       "</table>\n",
       "</div>"
      ],
      "text/plain": [
       "                                                 ela score diff  \\\n",
       "district                                                          \n",
       "Capital Preparatory Harbor School Inc. District            32.0   \n",
       "Regional School District 12                                21.0   \n",
       "Woodstock Academy District                                 15.0   \n",
       "Wethersfield School District                               19.0   \n",
       "Elm City College Preparatory School District               37.0   \n",
       "Simsbury School District                                   26.0   \n",
       "Greenwich School District                                  11.0   \n",
       "Common Ground High School District                         51.0   \n",
       "Ledyard School District                                    11.0   \n",
       "Plainville School District                                 17.0   \n",
       "\n",
       "                                                 math score diff  diff diff  \n",
       "district                                                                     \n",
       "Capital Preparatory Harbor School Inc. District              0.0      -32.0  \n",
       "Regional School District 12                                 -9.0      -30.0  \n",
       "Woodstock Academy District                                  -3.0      -18.0  \n",
       "Wethersfield School District                                 2.0      -17.0  \n",
       "Elm City College Preparatory School District                20.0      -17.0  \n",
       "Simsbury School District                                     9.0      -17.0  \n",
       "Greenwich School District                                   -5.0      -16.0  \n",
       "Common Ground High School District                          35.0      -16.0  \n",
       "Ledyard School District                                     -3.0      -14.0  \n",
       "Plainville School District                                   4.0      -13.0  "
      ]
     },
     "execution_count": 17,
     "metadata": {},
     "output_type": "execute_result"
    }
   ],
   "source": [
    "outlier_df.sort_values(by=\"diff diff\",ascending=True).head(10)"
   ]
  },
  {
   "cell_type": "code",
   "execution_count": null,
   "metadata": {
    "collapsed": true
   },
   "outputs": [],
   "source": []
  },
  {
   "cell_type": "markdown",
   "metadata": {},
   "source": [
    "# Strong relationship between math and ELA scores\n",
    "\n",
    "Schools that do well on one test do well on the other. Not unexpected."
   ]
  },
  {
   "cell_type": "code",
   "execution_count": 18,
   "metadata": {
    "collapsed": false
   },
   "outputs": [
    {
     "data": {
      "text/plain": [
       "<matplotlib.axes._subplots.AxesSubplot at 0x108e02e10>"
      ]
     },
     "execution_count": 18,
     "metadata": {},
     "output_type": "execute_result"
    },
    {
     "data": {
      "image/png": "[encoded data removed]",
      "text/plain": [
       "<matplotlib.figure.Figure at 0x108e0fc90>"
      ]
     },
     "metadata": {},
     "output_type": "display_data"
    }
   ],
   "source": [
    "delta_df.plot.scatter(x=\"avg score math 2016-17\",y=\"avg score ela 2016-17\")"
   ]
  },
  {
   "cell_type": "code",
   "execution_count": 19,
   "metadata": {
    "collapsed": false
   },
   "outputs": [
    {
     "data": {
      "text/html": [
       "<div>\n",
       "<table border=\"1\" class=\"dataframe\">\n",
       "  <thead>\n",
       "    <tr style=\"text-align: right;\">\n",
       "      <th></th>\n",
       "      <th>avg score math 2016-17</th>\n",
       "      <th>avg score ela 2016-17</th>\n",
       "    </tr>\n",
       "  </thead>\n",
       "  <tbody>\n",
       "    <tr>\n",
       "      <th>avg score math 2016-17</th>\n",
       "      <td>1.000000</td>\n",
       "      <td>0.974084</td>\n",
       "    </tr>\n",
       "    <tr>\n",
       "      <th>avg score ela 2016-17</th>\n",
       "      <td>0.974084</td>\n",
       "      <td>1.000000</td>\n",
       "    </tr>\n",
       "  </tbody>\n",
       "</table>\n",
       "</div>"
      ],
      "text/plain": [
       "                        avg score math 2016-17  avg score ela 2016-17\n",
       "avg score math 2016-17                1.000000               0.974084\n",
       "avg score ela 2016-17                 0.974084               1.000000"
      ]
     },
     "execution_count": 19,
     "metadata": {},
     "output_type": "execute_result"
    }
   ],
   "source": [
    "delta_df[[\"avg score math 2016-17\",\"avg score ela 2016-17\"]].corr()"
   ]
  },
  {
   "cell_type": "markdown",
   "metadata": {},
   "source": [
    "# Relationship between average score and number of students meeting goal\n",
    "\n",
    "In schools with high average scores, a large percentage of students are meeting goal. Also not super surprising."
   ]
  },
  {
   "cell_type": "code",
   "execution_count": 20,
   "metadata": {
    "collapsed": false
   },
   "outputs": [
    {
     "data": {
      "text/plain": [
       "<matplotlib.axes._subplots.AxesSubplot at 0x108d60610>"
      ]
     },
     "execution_count": 20,
     "metadata": {},
     "output_type": "execute_result"
    },
    {
     "data": {
      "image/png": "[encoded data removed]",
      "text/plain": [
       "<matplotlib.figure.Figure at 0x1090a5050>"
      ]
     },
     "metadata": {},
     "output_type": "display_data"
    }
   ],
   "source": [
    "delta_df.plot.scatter(x=\"avg score math 2016-17\",y=\"% goal math 2016-17\")"
   ]
  },
  {
   "cell_type": "code",
   "execution_count": 21,
   "metadata": {
    "collapsed": false
   },
   "outputs": [
    {
     "data": {
      "text/html": [
       "<div>\n",
       "<table border=\"1\" class=\"dataframe\">\n",
       "  <thead>\n",
       "    <tr style=\"text-align: right;\">\n",
       "      <th></th>\n",
       "      <th>avg score math 2016-17</th>\n",
       "      <th>% goal math 2016-17</th>\n",
       "    </tr>\n",
       "  </thead>\n",
       "  <tbody>\n",
       "    <tr>\n",
       "      <th>avg score math 2016-17</th>\n",
       "      <td>1.000000</td>\n",
       "      <td>0.990137</td>\n",
       "    </tr>\n",
       "    <tr>\n",
       "      <th>% goal math 2016-17</th>\n",
       "      <td>0.990137</td>\n",
       "      <td>1.000000</td>\n",
       "    </tr>\n",
       "  </tbody>\n",
       "</table>\n",
       "</div>"
      ],
      "text/plain": [
       "                        avg score math 2016-17  % goal math 2016-17\n",
       "avg score math 2016-17                1.000000             0.990137\n",
       "% goal math 2016-17                   0.990137             1.000000"
      ]
     },
     "execution_count": 21,
     "metadata": {},
     "output_type": "execute_result"
    }
   ],
   "source": [
    "delta_df[[\"avg score math 2016-17\",\"% goal math 2016-17\"]].corr()"
   ]
  },
  {
   "cell_type": "code",
   "execution_count": 22,
   "metadata": {
    "collapsed": false
   },
   "outputs": [
    {
     "data": {
      "text/plain": [
       "<matplotlib.axes._subplots.AxesSubplot at 0x1090d95d0>"
      ]
     },
     "execution_count": 22,
     "metadata": {},
     "output_type": "execute_result"
    },
    {
     "data": {
      "image/png": "[encoded data removed]",
      "text/plain": [
       "<matplotlib.figure.Figure at 0x1090edb90>"
      ]
     },
     "metadata": {},
     "output_type": "display_data"
    }
   ],
   "source": [
    "# Looking at how avg score tracks % of students behind, we see a negative correlation\n",
    "\n",
    "delta_df.plot.scatter(x=\"avg score math 2016-17\",y='% behind math 2016-17')"
   ]
  },
  {
   "cell_type": "code",
   "execution_count": 23,
   "metadata": {
    "collapsed": false
   },
   "outputs": [
    {
     "data": {
      "text/html": [
       "<div>\n",
       "<table border=\"1\" class=\"dataframe\">\n",
       "  <thead>\n",
       "    <tr style=\"text-align: right;\">\n",
       "      <th></th>\n",
       "      <th>avg score math 2016-17</th>\n",
       "      <th>% behind math 2016-17</th>\n",
       "    </tr>\n",
       "  </thead>\n",
       "  <tbody>\n",
       "    <tr>\n",
       "      <th>avg score math 2016-17</th>\n",
       "      <td>1.000000</td>\n",
       "      <td>-0.927094</td>\n",
       "    </tr>\n",
       "    <tr>\n",
       "      <th>% behind math 2016-17</th>\n",
       "      <td>-0.927094</td>\n",
       "      <td>1.000000</td>\n",
       "    </tr>\n",
       "  </tbody>\n",
       "</table>\n",
       "</div>"
      ],
      "text/plain": [
       "                        avg score math 2016-17  % behind math 2016-17\n",
       "avg score math 2016-17                1.000000              -0.927094\n",
       "% behind math 2016-17                -0.927094               1.000000"
      ]
     },
     "execution_count": 23,
     "metadata": {},
     "output_type": "execute_result"
    }
   ],
   "source": [
    "delta_df[[\"avg score math 2016-17\",\"% behind math 2016-17\"]].corr()\n"
   ]
  },
  {
   "cell_type": "code",
   "execution_count": 24,
   "metadata": {
    "collapsed": false
   },
   "outputs": [
    {
     "data": {
      "text/plain": [
       "<matplotlib.axes._subplots.AxesSubplot at 0x109207650>"
      ]
     },
     "execution_count": 24,
     "metadata": {},
     "output_type": "execute_result"
    },
    {
     "data": {
      "image/png": "[encoded data removed]",
      "text/plain": [
       "<matplotlib.figure.Figure at 0x10921c5d0>"
      ]
     },
     "metadata": {},
     "output_type": "display_data"
    }
   ],
   "source": [
    "delta_df.plot.scatter(x=\"% goal math 2016-17\",y='% behind math 2016-17')"
   ]
  },
  {
   "cell_type": "code",
   "execution_count": 25,
   "metadata": {
    "collapsed": false
   },
   "outputs": [
    {
     "data": {
      "text/html": [
       "<div>\n",
       "<table border=\"1\" class=\"dataframe\">\n",
       "  <thead>\n",
       "    <tr style=\"text-align: right;\">\n",
       "      <th></th>\n",
       "      <th>% behind math 2016-17</th>\n",
       "      <th>% goal math 2016-17</th>\n",
       "    </tr>\n",
       "  </thead>\n",
       "  <tbody>\n",
       "    <tr>\n",
       "      <th>% behind math 2016-17</th>\n",
       "      <td>1.000000</td>\n",
       "      <td>-0.919781</td>\n",
       "    </tr>\n",
       "    <tr>\n",
       "      <th>% goal math 2016-17</th>\n",
       "      <td>-0.919781</td>\n",
       "      <td>1.000000</td>\n",
       "    </tr>\n",
       "  </tbody>\n",
       "</table>\n",
       "</div>"
      ],
      "text/plain": [
       "                       % behind math 2016-17  % goal math 2016-17\n",
       "% behind math 2016-17               1.000000            -0.919781\n",
       "% goal math 2016-17                -0.919781             1.000000"
      ]
     },
     "execution_count": 25,
     "metadata": {},
     "output_type": "execute_result"
    }
   ],
   "source": [
    "delta_df[[\"% behind math 2016-17\",\"% goal math 2016-17\"]].corr()"
   ]
  }
 ],
 "metadata": {
  "kernelspec": {
   "display_name": "Python 2",
   "language": "python",
   "name": "python2"
  },
  "language_info": {
   "codemirror_mode": {
    "name": "ipython",
    "version": 2
   },
   "file_extension": ".py",
   "mimetype": "text/x-python",
   "name": "python",
   "nbconvert_exporter": "python",
   "pygments_lexer": "ipython2",
   "version": "2.7.13"
  }
 },
 "nbformat": 4,
 "nbformat_minor": 0
}
